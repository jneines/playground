{
 "cells": [
  {
   "cell_type": "markdown",
   "metadata": {},
   "source": [
    "# Calculating the Mandelbrot Set on a NodeMcu\n",
    "\n",
    "Writing code to calculate the Mandelbrot Set is usually one of the first things I do when starting to work with a new platform or hardware. It helps me a lot to get in touch with the capabilities and performance of the new hardware. Probably everyone has one of these standards to start playing with. For me it's timing the duration of calculating this specific fractal.\n",
    "\n",
    "So right after flashing the NodeMcu with the MicroPython image and being successful in turning the onboard led on and off it was about time to start playing with this.\n",
    "\n",
    "It is impressive every single time to see that such a complete and powerful language like Python is able to run on such an tiny and cheap platform, and that it's capable of executing quite complex tasks. However the Python implementation is not feature complete and hardware resources are quite limited. Therefore a more simple and more classic approach to implement the code was necessary. I hope it's still somewhat fun to try it and play with it. Due to the limited resources the most prominent reduction  is to not generate a large colourful image, but an ascii art like view of a rather coarse grid, pretty much like the first plots of the Mandelbrot Set must have looked like."
   ]
  },
  {
   "cell_type": "code",
   "execution_count": 1,
   "metadata": {
    "collapsed": true
   },
   "outputs": [],
   "source": [
    "import time\n",
    "import machine"
   ]
  },
  {
   "cell_type": "markdown",
   "metadata": {},
   "source": [
    "The ESP chip can be overclocked to twice its usual operating frequency of 80 MHz. To gain some performance from the very beginning, we adjust the frequency to 160 MHz."
   ]
  },
  {
   "cell_type": "code",
   "execution_count": 2,
   "metadata": {
    "collapsed": false
   },
   "outputs": [
    {
     "name": "stdout",
     "output_type": "stream",
     "text": [
      "160000000\r\n"
     ]
    }
   ],
   "source": [
    "machine.freq(160000000)\n",
    "print(machine.freq())"
   ]
  },
  {
   "cell_type": "markdown",
   "metadata": {},
   "source": [
    "To give a least some visual feedback from the board, we let the onboard LED flash everytime a pixel was decided to be part of the Mandelbrot Set for a very short time period. Driving the onboard LED could either be done by switching Pin 2, to which the LED is connected, to high for a moment, or by adjusting the duty cycle when im PWM mode. It turned out that the latter approach was much more reliable and faster, so the PWM mode is used for creating the visual feedback."
   ]
  },
  {
   "cell_type": "code",
   "execution_count": 3,
   "metadata": {
    "collapsed": true
   },
   "outputs": [],
   "source": [
    "led = machine.PWM(machine.Pin(2), freq=1000)\n",
    "\n",
    "def flash(duration=100):\n",
    "    led.duty(0)\n",
    "    time.sleep_us(duration)\n",
    "    led.duty(1024)\n",
    "\n",
    "flash(1000)"
   ]
  },
  {
   "cell_type": "markdown",
   "metadata": {},
   "source": [
    "We will use sort of a standard set of coordinates for the real and imaginary plane to create the view. The resolution is chosen to let the output fit nicely in a jupyter notebook and keep the aspect ratio as correct as possible. Furthermore as the grid has been chosen to be quite coarse, the maximumn number of iterations is also chosen to be a rather small value, as higher values wouldn't leed to more visible detail in this case and would therefore waste a lot of computation time."
   ]
  },
  {
   "cell_type": "code",
   "execution_count": 4,
   "metadata": {
    "collapsed": false
   },
   "outputs": [],
   "source": [
    "xl=-2.0\n",
    "xr=.5\n",
    "yb=-1.25\n",
    "yt=1.25\n",
    "\n",
    "width=106\n",
    "height=55\n",
    "maxiterations=20\n",
    "\n",
    "dx=(xr-xl)/(width-1)\n",
    "dy=(yt-yb)/(height-1)"
   ]
  },
  {
   "cell_type": "markdown",
   "metadata": {},
   "source": [
    "The iteration formula itself has been encapsulated in this function. It is called for every coordinate in the complex plane defned by our coordinate window. As you can see no complex math has been used for the implementation. The real number based arithmetics has not been prefered for performance reasons. Complex math is simply currently not available in MicroPython. This leads to an even more classic implementation of the code."
   ]
  },
  {
   "cell_type": "code",
   "execution_count": 5,
   "metadata": {
    "collapsed": false
   },
   "outputs": [],
   "source": [
    "def mandel(creal, cimag, maxiterations):\n",
    "    real=creal\n",
    "    imag=cimag\n",
    "    for iteration in range(maxiterations):\n",
    "        real2=real**2\n",
    "        imag2=imag**2\n",
    "        if real2+imag2 > 4.0:\n",
    "            return iteration\n",
    "        imag=2*real*imag+cimag\n",
    "        real=real2-imag2+creal\n",
    "    return maxiterations"
   ]
  },
  {
   "cell_type": "markdown",
   "metadata": {},
   "source": [
    "The following code is used to loop over the coordinate plane and perform the iteration scheme at each point. The result will be a multiline string which can simply be printed out to create the famous view. If a point was found to be a member of the Mandelbrot Set a `#` is added to the string and the LED flash is triggered to give visual feedback. If that is not the case a whitespace character is used to fill the next position of the string. At the end of each row of coordinate pairs a newline charachter is added, resulting in a matrix like final view of the Mandelbrot Set."
   ]
  },
  {
   "cell_type": "code",
   "execution_count": 6,
   "metadata": {
    "collapsed": false
   },
   "outputs": [
    {
     "name": "stdout",
     "output_type": "stream",
     "text": [
      "Calculating the Mandelbrot set took 12 s.\r\n"
     ]
    }
   ],
   "source": [
    "tic=time.time()\n",
    "\n",
    "rows=\"\"\n",
    "for y_index in range(height):\n",
    "    row=\"\"\n",
    "    y=yb+y_index*dy\n",
    "    for x_index in range(width):\n",
    "        x=xl+x_index*dx\n",
    "        iterations=mandel(x, y, maxiterations)\n",
    "        if iterations==maxiterations:\n",
    "            row+=\"#\"\n",
    "            flash()\n",
    "        else:\n",
    "            row+=\" \"\n",
    "    rows+=(row+\"\\n\")\n",
    "    \n",
    "toc=time.time()\n",
    "print(\"Calculating the Mandelbrot set took {0:g} s.\".format(toc-tic))"
   ]
  },
  {
   "cell_type": "markdown",
   "metadata": {},
   "source": [
    "Finally we're able to present the result."
   ]
  },
  {
   "cell_type": "code",
   "execution_count": 7,
   "metadata": {
    "collapsed": false
   },
   "outputs": [
    {
     "name": "stdout",
     "output_type": "stream",
     "text": [
      "                                                                                                          \r\n",
      "                                                                                                          \r\n",
      "                                                                                                          \r\n",
      "                                                                                                          \r\n",
      "                                                                                                          \r\n",
      "                                                                              #                           \r\n",
      "                                                                                 #                        \r\n",
      "                                                                               ##                         \r\n",
      "                                                                              ####                        \r\n",
      "                                                                          ######### #                     \r\n",
      "                                                                           #########                      \r\n",
      "                                                                          ##########                      \r\n",
      "                                                                           #########               #      \r\n",
      "                                                            ##     ### #################  #        #      \r\n",
      "                                                             ####  ########################     #   #     \r\n",
      "                                                            ################################# #####       \r\n",
      "                                                              ######################################      \r\n",
      "                                                       #### #####################################         \r\n",
      "                                                         ###########################################      \r\n",
      "                                                       # ########################################## ##    \r\n",
      "                                                       ###############################################    \r\n",
      "                                   ###   ###  #       ###############################################     \r\n",
      "                                   ###############    #################################################   \r\n",
      "                                  #################  ################################################     \r\n",
      "                                 ####################################################################     \r\n",
      "                          #    #####################################################################      \r\n",
      "                          #########################################################################       \r\n",
      " ###############################################################################################          \r\n",
      "                          #########################################################################       \r\n",
      "                          #    #####################################################################      \r\n",
      "                                 ####################################################################     \r\n",
      "                                  #################  ################################################     \r\n",
      "                                   ###############    #################################################   \r\n",
      "                                   ###   ###  #       ###############################################     \r\n",
      "                                                       ###############################################    \r\n",
      "                                                       # ########################################## ##    \r\n",
      "                                                         ###########################################      \r\n",
      "                                                       #### #####################################         \r\n",
      "                                                              ######################################      \r\n",
      "                                                            ################################# #####       \r\n",
      "                                                             ####  ########################     #   #     \r\n",
      "                                                            ##     ### #################  #        #      \r\n",
      "                                                                           #########               #      \r\n",
      "                                                                          ##########                      \r\n",
      "                                                                           #########                      \r\n",
      "                                                                          ######### #                     \r\n",
      "                                                                              ####                        \r\n",
      "                                                                               ##                         \r\n",
      "                                                                                 #                        \r\n",
      "                                                                              #                           \r\n",
      "                                                                                                          \r\n",
      "                                                                                                          \r\n",
      "                                                                                                          \r\n",
      "                                                                                                          \r\n",
      "                                                                                                          \r\n",
      "\r\n"
     ]
    }
   ],
   "source": [
    "print(rows)"
   ]
  }
 ],
 "metadata": {
  "kernelspec": {
   "display_name": "NodeMcu",
   "language": "python",
   "name": "nodemcu"
  },
  "language_info": {
   "codemirror_mode": {
    "name": "python",
    "version": 3
   },
   "file_extension": ".py",
   "mimetype": "text/x-python",
   "name": "python",
   "pygments_lexer": "python3",
   "version": "1"
  }
 },
 "nbformat": 4,
 "nbformat_minor": 2
}
