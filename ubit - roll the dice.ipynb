{
 "cells": [
  {
   "cell_type": "markdown",
   "metadata": {},
   "source": [
    "# Roll the dice on a BBC micro:bit\n",
    "\n",
    "This little Python script implements a nice application to play the dice using a BBC micro:bit. On every press of the button `A` another random number between 1 and 6 is generated and displayed using a typical dice dot pattern on the led matrix. Keeping the button `A` pressed displays a progress animation accelerating the longer the button is pressed and slowing down after releasing the button again until the next value of the throw is displayed. Pressing the button `B` exits the main loop, which is handy when running the application in interactive mode using the [ubit_kernel](https://github.com/takluyver/ubit_kernel) in a jupyter notebook.\n",
    "\n",
    "Otherwise you're advised to comment the button 'B' related code and copy and paste the code into the [BBC Python online editor](http://microbit.co.uk/app/#create:xyelfe), download the resulting binary blob and copy it onto the micro:bit, when connected to your computer."
   ]
  },
  {
   "cell_type": "markdown",
   "metadata": {},
   "source": [
    "The random module is used to determine the next number to be used for emulating a dices throw."
   ]
  },
  {
   "cell_type": "code",
   "execution_count": null,
   "metadata": {
    "collapsed": true
   },
   "outputs": [],
   "source": [
    "import random"
   ]
  },
  {
   "cell_type": "markdown",
   "metadata": {},
   "source": [
    "The dices faces are represented by images to be displayed on the led matrix. They're defined row by row, with `0` representing a led being switched off and a `9` for a led turned on at full brightness. There is an empty image in front to be used as the initial display."
   ]
  },
  {
   "cell_type": "code",
   "execution_count": null,
   "metadata": {
    "collapsed": true
   },
   "outputs": [],
   "source": [
    "dice0=Image(\n",
    "    \"00000:\"\n",
    "    \"00000:\"\n",
    "    \"00000:\"\n",
    "    \"00000:\"\n",
    "    \"00000:\"\n",
    ")\n",
    "dice1=Image(\n",
    "    \"00000:\"\n",
    "    \"00000:\"\n",
    "    \"00900:\"\n",
    "    \"00000:\"\n",
    "    \"00000:\"\n",
    ")\n",
    "dice2=Image(\n",
    "    \"00009:\"\n",
    "    \"00000:\"\n",
    "    \"00000:\"\n",
    "    \"00000:\"\n",
    "    \"90000:\"\n",
    ")\n",
    "dice3=Image(\n",
    "    \"90000:\"\n",
    "    \"00000:\"\n",
    "    \"00900:\"\n",
    "    \"00000:\"\n",
    "    \"00009:\"\n",
    ")\n",
    "dice4=Image(\n",
    "    \"90009:\"\n",
    "    \"00000:\"\n",
    "    \"00000:\"\n",
    "    \"00000:\"\n",
    "    \"90009:\"\n",
    ")\n",
    "dice5=Image(\n",
    "    \"90009:\"\n",
    "    \"00000:\"\n",
    "    \"00900:\"\n",
    "    \"00000:\"\n",
    "    \"90009:\"\n",
    ")\n",
    "dice6=Image(\n",
    "    \"90009:\"\n",
    "    \"00000:\"\n",
    "    \"90009:\"\n",
    "    \"00000:\"\n",
    "    \"90009:\"\n",
    ")"
   ]
  },
  {
   "cell_type": "markdown",
   "metadata": {},
   "source": [
    "The progress animation consists of images with straight lines which build a rolling line pattern rotating counterclockwise when being  displayed."
   ]
  },
  {
   "cell_type": "code",
   "execution_count": null,
   "metadata": {
    "collapsed": false
   },
   "outputs": [],
   "source": [
    "progress1=Image(\n",
    "    \"00900:\"\n",
    "    \"00900:\"\n",
    "    \"00900:\"\n",
    "    \"00900:\"\n",
    "    \"00900:\"\n",
    ")\n",
    "progress2=Image(\n",
    "    \"90000:\"\n",
    "    \"09000:\"\n",
    "    \"00900:\"\n",
    "    \"00090:\"\n",
    "    \"00009:\"\n",
    ")\n",
    "progress3=Image(\n",
    "    \"00000:\"\n",
    "    \"00000:\"\n",
    "    \"99999:\"\n",
    "    \"00000:\"\n",
    "    \"00000:\"\n",
    ")\n",
    "progress4=Image(\n",
    "    \"00009:\"\n",
    "    \"00090:\"\n",
    "    \"00900:\"\n",
    "    \"09000:\"\n",
    "    \"90000:\"\n",
    ")\n",
    "progress5=Image(\n",
    "    \"00900:\"\n",
    "    \"00900:\"\n",
    "    \"00900:\"\n",
    "    \"00900:\"\n",
    "    \"00900:\"\n",
    ")\n",
    "progress6=Image(\n",
    "    \"90000:\"\n",
    "    \"09000:\"\n",
    "    \"00900:\"\n",
    "    \"00090:\"\n",
    "    \"00009:\"\n",
    ")\n",
    "progress7=Image(\n",
    "    \"00000:\"\n",
    "    \"00000:\"\n",
    "    \"99999:\"\n",
    "    \"00000:\"\n",
    "    \"00000:\"\n",
    ")\n",
    "progress8=Image(\n",
    "    \"00009:\"\n",
    "    \"00090:\"\n",
    "    \"00900:\"\n",
    "    \"09000:\"\n",
    "    \"90000:\"\n",
    ")"
   ]
  },
  {
   "cell_type": "markdown",
   "metadata": {},
   "source": [
    "The whole sequences of images is organized in a dictionary of images, with integer keys. The `0` key will always reference the current face of the dice to be displayed, and will therefore be overwritten in each iteration. The remaining keys reference the images for the progress animation, which can be addressed by simply looping over a range of numbers."
   ]
  },
  {
   "cell_type": "code",
   "execution_count": null,
   "metadata": {
    "collapsed": true
   },
   "outputs": [],
   "source": [
    "images={\n",
    "    0: dice0,\n",
    "    1: progress1,\n",
    "    2: progress2,\n",
    "    3: progress3,\n",
    "    4: progress4,\n",
    "    5: progress5,\n",
    "    6: progress6,\n",
    "    7: progress7,\n",
    "    8: progress8,\n",
    "}"
   ]
  },
  {
   "cell_type": "markdown",
   "metadata": {},
   "source": [
    "Next the behaviour of the application itself is configured by defining the minium and maximum delay times, which are adjusted when the button `A` keeps getting pressed and the initial setting is of the applications state is defined."
   ]
  },
  {
   "cell_type": "code",
   "execution_count": null,
   "metadata": {
    "collapsed": true
   },
   "outputs": [],
   "source": [
    "progress_index=0\n",
    "min_animation_delay=20\n",
    "max_animation_delay=100\n",
    "animation_delay=max_animation_delay\n",
    "button_down=False"
   ]
  },
  {
   "cell_type": "markdown",
   "metadata": {},
   "source": [
    "Within the main loop the button `B` is checked for presses allowing an exit of the main loop. Furthermore the main button of interest, button `A` is checked for presses, which triggers an acceleration of the progress animation up to the minimum defined delay and calculates a new random number in each iteration, which could be displayed as a new throw. Not pressing button `A` will slow down the progress animation by increasing the delay again up to the maximum defined delay time.\n",
    "\n",
    "Next the animation delay is executed. Having defined a minimum delay time ensures to prevent the micro:bit entering a heavy load state, which both helps keeping the temperature of the device down and save energy.\n",
    "\n",
    "Increasing the progress index in every iteration within the limits 1 and 8 is what keeps the progress animation running. And finally checking the value of the animation delay is what decides whether the animation image is displayed or the currently selected face of the dice."
   ]
  },
  {
   "cell_type": "code",
   "execution_count": null,
   "metadata": {
    "collapsed": false
   },
   "outputs": [],
   "source": [
    "while True:\n",
    "    if button_b.is_pressed():\n",
    "        break\n",
    "        \n",
    "    if button_a.is_pressed():\n",
    "        animation_delay=max(animation_delay-2, min_animation_delay)\n",
    "        dice_index=random.randint(1,6)\n",
    "        images[0]=dice[dice_index]\n",
    "    else:\n",
    "        animation_delay=min(animation_delay+2, max_animation_delay)\n",
    "\n",
    "    sleep(animation_delay)\n",
    "    progress_index=progress_index%8+1\n",
    "    if animation_delay<max_animation_delay:\n",
    "        display.show(images[progress_index])\n",
    "    else:\n",
    "        display.show(images[0])\n",
    "        progress_index=0"
   ]
  },
  {
   "cell_type": "code",
   "execution_count": null,
   "metadata": {
    "collapsed": true
   },
   "outputs": [],
   "source": []
  }
 ],
 "metadata": {
  "kernelspec": {
   "display_name": "Python 3",
   "language": "python",
   "name": "python3"
  },
  "language_info": {
   "codemirror_mode": {
    "name": "ipython",
    "version": 3
   },
   "file_extension": ".py",
   "mimetype": "text/x-python",
   "name": "python",
   "nbconvert_exporter": "python",
   "pygments_lexer": "ipython3",
   "version": "3.6.0"
  }
 },
 "nbformat": 4,
 "nbformat_minor": 2
}
