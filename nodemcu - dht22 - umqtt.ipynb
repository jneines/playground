{
 "cells": [
  {
   "cell_type": "markdown",
   "metadata": {},
   "source": [
    "Import necessary modules"
   ]
  },
  {
   "cell_type": "code",
   "execution_count": 1,
   "metadata": {
    "collapsed": true
   },
   "outputs": [],
   "source": [
    "import time\n",
    "import network\n",
    "\n",
    "import machine\n",
    "import dht\n",
    "\n",
    "from umqtt.simple import MQTTClient"
   ]
  },
  {
   "cell_type": "markdown",
   "metadata": {},
   "source": [
    "configure the dht22 sensor being connected to Pin 4 (D2)."
   ]
  },
  {
   "cell_type": "code",
   "execution_count": 2,
   "metadata": {
    "collapsed": true
   },
   "outputs": [],
   "source": [
    "d=dht.DHT22(machine.Pin(4))"
   ]
  },
  {
   "cell_type": "markdown",
   "metadata": {},
   "source": [
    "Prepare the onboard led at Pin 2 to be used as a status indicator. It is operated in PWM mode. Set frequency to 1000 Hz and the duty cycle to 0 which is turning the led on."
   ]
  },
  {
   "cell_type": "code",
   "execution_count": 4,
   "metadata": {
    "collapsed": true
   },
   "outputs": [],
   "source": [
    "led=machine.PWM(machine.Pin(2), freq=1000)\n",
    "led.duty(0)"
   ]
  },
  {
   "cell_type": "markdown",
   "metadata": {},
   "source": [
    "Prepare a static network interface to join to an existing network"
   ]
  },
  {
   "cell_type": "code",
   "execution_count": 5,
   "metadata": {
    "collapsed": true
   },
   "outputs": [],
   "source": [
    "sta_if = network.WLAN(network.STA_IF)"
   ]
  },
  {
   "cell_type": "markdown",
   "metadata": {},
   "source": [
    "Connect to the existing and open network called `pyfi`."
   ]
  },
  {
   "cell_type": "code",
   "execution_count": 9,
   "metadata": {
    "collapsed": true
   },
   "outputs": [],
   "source": [
    "sta_if.connect(\"pyfi\")"
   ]
  },
  {
   "cell_type": "markdown",
   "metadata": {},
   "source": [
    "Wait for being successfully connected in a while loop. Indicated connection attempts with a flashing led."
   ]
  },
  {
   "cell_type": "code",
   "execution_count": 5,
   "metadata": {
    "collapsed": false
   },
   "outputs": [
    {
     "name": "stderr",
     "output_type": "stream",
     "text": [
      "Traceback (most recent call last):\r\n",
      "  File \"<stdin>\", line 7, in <module>\r\n",
      "NameError: name 'sta_if' is not defined\r\n"
     ]
    }
   ],
   "source": [
    "while not sta_if.isconnected():\n",
    "    for index in range(3):\n",
    "        led.duty(0)\n",
    "        time.sleep_ms(10)\n",
    "        led.duty(1024)\n",
    "        time.sleep_ms(10)\n",
    "    time.sleep_ms(500)"
   ]
  },
  {
   "cell_type": "markdown",
   "metadata": {},
   "source": [
    "Print out the network configuration in success."
   ]
  },
  {
   "cell_type": "code",
   "execution_count": 11,
   "metadata": {
    "collapsed": false
   },
   "outputs": [
    {
     "name": "stdout",
     "output_type": "stream",
     "text": [
      "('192.168.2.248', '255.255.255.0', '192.168.2.1', '192.168.2.1')\r\n"
     ]
    }
   ],
   "source": [
    "print(sta_if.ifconfig())"
   ]
  },
  {
   "cell_type": "markdown",
   "metadata": {},
   "source": [
    "In order to transfer our measured temperature and humidity values we use the mosquitto protocol available in the umqtt library. We create a client named `utemphum` connecting to a mosquitto request broker expected to be available at `192.168.2.1` which is part of the wifi network we connected to."
   ]
  },
  {
   "cell_type": "code",
   "execution_count": 12,
   "metadata": {
    "collapsed": false
   },
   "outputs": [],
   "source": [
    "client=MQTTClient(\"utemphum\", \"192.168.2.1\") # pcm"
   ]
  },
  {
   "cell_type": "markdown",
   "metadata": {},
   "source": [
    "Connect to the request broker"
   ]
  },
  {
   "cell_type": "code",
   "execution_count": null,
   "metadata": {
    "collapsed": false
   },
   "outputs": [],
   "source": [
    "client.connect()"
   ]
  },
  {
   "cell_type": "markdown",
   "metadata": {},
   "source": [
    "In an endless loop trigger a new measurement and send the new data labeled with the topic `temphum` to the broker. After completion indicate success with a short flash of the led and sleep for a second before repeating the process."
   ]
  },
  {
   "cell_type": "code",
   "execution_count": null,
   "metadata": {
    "collapsed": false
   },
   "outputs": [],
   "source": [
    "while True:\n",
    "    d.measure()\n",
    "    client.publish(\"temphum\", \"{0:g}:{1:g}\".format(d.temperature(), d.humidity()))\n",
    "    led.duty(0)\n",
    "    time.sleep_ms(10)\n",
    "    led.duty(1024)\n",
    "    time.sleep(1)"
   ]
  },
  {
   "cell_type": "code",
   "execution_count": null,
   "metadata": {
    "collapsed": true
   },
   "outputs": [],
   "source": []
  }
 ],
 "metadata": {
  "kernelspec": {
   "display_name": "NodeMcu",
   "language": "python",
   "name": "nodemcu"
  },
  "language_info": {
   "codemirror_mode": {
    "name": "python",
    "version": 3
   },
   "file_extension": ".py",
   "mimetype": "text/x-python",
   "name": "python",
   "pygments_lexer": "python3",
   "version": "1"
  }
 },
 "nbformat": 4,
 "nbformat_minor": 2
}
